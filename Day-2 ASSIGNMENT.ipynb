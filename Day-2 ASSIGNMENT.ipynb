{
 "cells": [
  {
   "cell_type": "markdown",
   "metadata": {},
   "source": [
    "# TOPICS\n",
    "    \n",
    "   1. BASIC PYTHON SYNTAX\n",
    "   2. PYTHON VARIABLES AND ASSIGNMENT STATEMENTS\n",
    "   3. PYTHON OPERATORS"
   ]
  },
  {
   "cell_type": "markdown",
   "metadata": {},
   "source": [
    "# BASIC PYTHON SYNTAX"
   ]
  },
  {
   "cell_type": "code",
   "execution_count": 25,
   "metadata": {},
   "outputs": [
    {
     "name": "stdout",
     "output_type": "stream",
     "text": [
      "Hello letsupgrade\n"
     ]
    }
   ],
   "source": [
    "#Backslash- to continue the line\n",
    "  \n",
    "print (\"Hello \\\n",
    "letsupgrade\")\n",
    "    "
   ]
  },
  {
   "cell_type": "markdown",
   "metadata": {},
   "source": [
    "#Triple Quotes(\"\"\"   \"\"\")\n",
    " 1. we use this for document string\n",
    " 2. To print text art\n",
    " 3. for making \n"
   ]
  },
  {
   "cell_type": "code",
   "execution_count": 2,
   "metadata": {},
   "outputs": [
    {
     "name": "stdout",
     "output_type": "stream",
     "text": [
      "Hello let's upgrade\n"
     ]
    }
   ],
   "source": [
    "#string inside the quotes - using of correct quotes\n",
    "\n",
    "\n",
    "print(\"Hello let's upgrade\")"
   ]
  },
  {
   "cell_type": "code",
   "execution_count": 3,
   "metadata": {},
   "outputs": [
    {
     "name": "stdout",
     "output_type": "stream",
     "text": [
      "Hello\tletsupgrade\n"
     ]
    }
   ],
   "source": [
    "#Escape sequence(\\t \\n \\a )\n",
    "\n",
    "\n",
    "\n",
    "print(\"Hello\\tletsupgrade\")"
   ]
  },
  {
   "cell_type": "code",
   "execution_count": 4,
   "metadata": {},
   "outputs": [
    {
     "name": "stdout",
     "output_type": "stream",
     "text": [
      "Hello\n",
      "letsupgrade\n"
     ]
    }
   ],
   "source": [
    "print(\"Hello\\nletsupgrade\")"
   ]
  },
  {
   "cell_type": "code",
   "execution_count": 5,
   "metadata": {},
   "outputs": [
    {
     "name": "stdout",
     "output_type": "stream",
     "text": [
      "Hello let's upgrade\n"
     ]
    }
   ],
   "source": [
    "#using \\ for single quote\n",
    "\n",
    "print('Hello let\\'s upgrade')"
   ]
  },
  {
   "cell_type": "code",
   "execution_count": 6,
   "metadata": {},
   "outputs": [
    {
     "name": "stdout",
     "output_type": "stream",
     "text": [
      "Hello\u0007letsupgrade\n"
     ]
    }
   ],
   "source": [
    "#alaram \\a\n",
    "\n",
    "print(\"Hello\\aletsupgrade\")"
   ]
  },
  {
   "cell_type": "code",
   "execution_count": 13,
   "metadata": {},
   "outputs": [
    {
     "name": "stdout",
     "output_type": "stream",
     "text": [
      "the name of the person is kiran marks is80.235000 age is 23\n"
     ]
    }
   ],
   "source": [
    "#Formatted output - while using multiple syntax to get output correctly\n",
    "\n",
    "name = \"kiran\"\n",
    "marks = 80.235\n",
    "age = 23\n",
    "\n",
    "print (\"the name of the person is %s marks is%f age is %d\"%(name,marks,age))"
   ]
  },
  {
   "cell_type": "code",
   "execution_count": 17,
   "metadata": {},
   "outputs": [
    {
     "name": "stdout",
     "output_type": "stream",
     "text": [
      "the name of the person is      kiran marks is      80.2 age is 23\n"
     ]
    }
   ],
   "source": [
    "print (\"the name of the person is %10s marks is%10.1f age is %d\"%(name,marks,age))"
   ]
  },
  {
   "cell_type": "markdown",
   "metadata": {},
   "source": [
    "# python variables\n",
    "\n",
    " A Python variable is a reserved memory location to store values. In other words, a variable in a python program gives data to the computer for processing."
   ]
  },
  {
   "cell_type": "markdown",
   "metadata": {},
   "source": [
    "# python assignment statements"
   ]
  },
  {
   "cell_type": "code",
   "execution_count": 18,
   "metadata": {},
   "outputs": [],
   "source": [
    "x=y=20"
   ]
  },
  {
   "cell_type": "code",
   "execution_count": 19,
   "metadata": {},
   "outputs": [
    {
     "data": {
      "text/plain": [
       "20"
      ]
     },
     "execution_count": 19,
     "metadata": {},
     "output_type": "execute_result"
    }
   ],
   "source": [
    "x"
   ]
  },
  {
   "cell_type": "code",
   "execution_count": 20,
   "metadata": {},
   "outputs": [
    {
     "data": {
      "text/plain": [
       "20"
      ]
     },
     "execution_count": 20,
     "metadata": {},
     "output_type": "execute_result"
    }
   ],
   "source": [
    "y"
   ]
  },
  {
   "cell_type": "code",
   "execution_count": 21,
   "metadata": {},
   "outputs": [
    {
     "data": {
      "text/plain": [
       "140733025461232"
      ]
     },
     "execution_count": 21,
     "metadata": {},
     "output_type": "execute_result"
    }
   ],
   "source": [
    "id(x)"
   ]
  },
  {
   "cell_type": "code",
   "execution_count": 22,
   "metadata": {},
   "outputs": [
    {
     "data": {
      "text/plain": [
       "140733025461232"
      ]
     },
     "execution_count": 22,
     "metadata": {},
     "output_type": "execute_result"
    }
   ],
   "source": [
    "id(y)"
   ]
  },
  {
   "cell_type": "markdown",
   "metadata": {},
   "source": [
    "# Types of operators\n",
    " \n",
    "1. Arithmetic operators\n",
    "2. Comparison operators\n",
    "3. Assignment operators\n",
    "4. Bitwise operators\n",
    "5. Logical operators\n",
    "6. Membership operators\n",
    "7. Identity operators"
   ]
  },
  {
   "cell_type": "markdown",
   "metadata": {},
   "source": [
    "1.Arithmetic operators\n",
    "\n",
    "+ Addition\n",
    "- Subtraction\n",
    "* Multiplication\n",
    "/ Division\n",
    "% Modulus\n",
    "** Exponent\n",
    "// floor division"
   ]
  },
  {
   "cell_type": "markdown",
   "metadata": {},
   "source": [
    "2. Comparison operators\n",
    "\n",
    "==\n",
    "<\n",
    ">\n",
    "<=\n",
    ">=\n",
    "!="
   ]
  },
  {
   "cell_type": "code",
   "execution_count": null,
   "metadata": {},
   "outputs": [],
   "source": [
    "3. Assignment operators\n",
    "\n",
    "=     a=b\n",
    "+=    a+=b is a=a+b\n",
    "-=    a-=b is a=a-b\n",
    "*=    a*=b is a=a*b\n",
    "/=    a/=b is a=a/b\n",
    "**=   a**=b is a=a**b"
   ]
  },
  {
   "cell_type": "code",
   "execution_count": null,
   "metadata": {},
   "outputs": [],
   "source": [
    "4. Bitwise operators\n",
    "\n",
    "&  AND\n",
    "|  OR\n",
    "~  one's complement\n",
    "^  XOR\n",
    "<< left shift operator\n",
    ">> right shift operator"
   ]
  },
  {
   "cell_type": "code",
   "execution_count": null,
   "metadata": {},
   "outputs": [],
   "source": [
    "5. Logical operators\n",
    "\n",
    "AND\n",
    "OR\n",
    "NOT"
   ]
  },
  {
   "cell_type": "code",
   "execution_count": null,
   "metadata": {},
   "outputs": [],
   "source": [
    "6.Membership operators\n",
    "\n",
    "in\n",
    "not in"
   ]
  },
  {
   "cell_type": "code",
   "execution_count": 26,
   "metadata": {},
   "outputs": [
    {
     "data": {
      "text/plain": [
       "True"
      ]
     },
     "execution_count": 26,
     "metadata": {},
     "output_type": "execute_result"
    }
   ],
   "source": [
    "str1 = \"program\"\n",
    "\"a\" in str1"
   ]
  },
  {
   "cell_type": "code",
   "execution_count": 27,
   "metadata": {},
   "outputs": [
    {
     "data": {
      "text/plain": [
       "False"
      ]
     },
     "execution_count": 27,
     "metadata": {},
     "output_type": "execute_result"
    }
   ],
   "source": [
    "str1 = \"program\"\n",
    "\"a\" not in str1"
   ]
  },
  {
   "cell_type": "markdown",
   "metadata": {},
   "source": [
    "7. Identity operator\n",
    "\n",
    "is - two variables refer to same memory location, then true\n",
    "\n",
    "is not - two variables refer to same memory location, then flase"
   ]
  },
  {
   "cell_type": "code",
   "execution_count": 30,
   "metadata": {},
   "outputs": [],
   "source": [
    "-5 to 256 lies in same memory location"
   ]
  },
  {
   "cell_type": "markdown",
   "metadata": {},
   "source": [
    "# operator precedence\n",
    "\n",
    "always solve high precedence then low precedence\n",
    "\n",
    "for operators solve from left to right\n",
    "for exponent from right to left"
   ]
  }
 ],
 "metadata": {
  "kernelspec": {
   "display_name": "Python 3",
   "language": "python",
   "name": "python3"
  },
  "language_info": {
   "codemirror_mode": {
    "name": "ipython",
    "version": 3
   },
   "file_extension": ".py",
   "mimetype": "text/x-python",
   "name": "python",
   "nbconvert_exporter": "python",
   "pygments_lexer": "ipython3",
   "version": "3.7.6"
  }
 },
 "nbformat": 4,
 "nbformat_minor": 4
}
